{
 "cells": [
  {
   "cell_type": "markdown",
   "metadata": {},
   "source": [
    "# Analyse the quality score of reads within `.fastq` files\n",
    "Written by Jason A. Hendry"
   ]
  },
  {
   "cell_type": "code",
   "execution_count": null,
   "metadata": {},
   "outputs": [],
   "source": [
    "import os\n",
    "import sys\n",
    "\n",
    "import pandas as pd\n",
    "import numpy as np\n",
    "\n",
    "import matplotlib.pyplot as plt\n",
    "import seaborn as sns\n",
    "\n",
    "# inline stylization\n",
    "%matplotlib inline\n",
    "sns.set_style('white')\n",
    "sns.set_style('ticks')\n",
    "#sns.set_style(\"ticks\")\n",
    "plt.rcParams['figure.dpi'] = 100\n",
    "plt.rcParams['savefig.dpi'] = 100"
   ]
  },
  {
   "cell_type": "markdown",
   "metadata": {},
   "source": [
    "## Settings"
   ]
  },
  {
   "cell_type": "code",
   "execution_count": null,
   "metadata": {},
   "outputs": [],
   "source": [
    "savefigs = False\n",
    "output_dir = \"../figs\"\n",
    "if not os.path.exists(output_dir):\n",
    "    os.makedirs(output_dir)\n",
    "    print(\"Making output directory: %s\" % output_dir)"
   ]
  },
  {
   "cell_type": "markdown",
   "metadata": {},
   "source": [
    "## How to load a `.fastq` file"
   ]
  },
  {
   "cell_type": "code",
   "execution_count": null,
   "metadata": {},
   "outputs": [],
   "source": [
    "input_dir = \"data\"\n",
    "fq_fn = \"example.fastq\"\n",
    "fq_path = os.path.join(input_dir, fq_fn)\n",
    "print(\".fastq path: %s\" % fq_path)"
   ]
  },
  {
   "cell_type": "code",
   "execution_count": null,
   "metadata": {},
   "outputs": [],
   "source": [
    "fq = open(fq_path, \"r\")"
   ]
  },
  {
   "cell_type": "code",
   "execution_count": null,
   "metadata": {},
   "outputs": [],
   "source": [
    "fq.readline()"
   ]
  },
  {
   "cell_type": "markdown",
   "metadata": {},
   "source": [
    "- We can see that we have loaded a `.fastq` file, and we are able to read it line by line\n",
    "- We can also save **all** the lines into a list"
   ]
  },
  {
   "cell_type": "code",
   "execution_count": null,
   "metadata": {},
   "outputs": [],
   "source": [
    "lines = fq.readlines()\n",
    "lines[:5] # showing the first five lines"
   ]
  },
  {
   "cell_type": "markdown",
   "metadata": {},
   "source": [
    "- Once we have read all the lines, the variable `fq` is 'emptied'; we would have to `open()` the file again to populate `fq`"
   ]
  },
  {
   "cell_type": "code",
   "execution_count": null,
   "metadata": {},
   "outputs": [],
   "source": [
    "fq.readline()"
   ]
  },
  {
   "cell_type": "code",
   "execution_count": null,
   "metadata": {},
   "outputs": [],
   "source": [
    "fq = open(fq_path, \"r\")\n",
    "fq.readline()  # back to the first line"
   ]
  },
  {
   "cell_type": "markdown",
   "metadata": {},
   "source": [
    "- The `open()` function also allows us to loop over all of the lines in the file"
   ]
  },
  {
   "cell_type": "code",
   "execution_count": null,
   "metadata": {},
   "outputs": [],
   "source": [
    "i = 0\n",
    "for l in fq:  # iterate over the lines\n",
    "    i += 1"
   ]
  },
  {
   "cell_type": "code",
   "execution_count": null,
   "metadata": {},
   "outputs": [],
   "source": [
    "print(\"Number of lines: %d\" % i)"
   ]
  },
  {
   "cell_type": "markdown",
   "metadata": {},
   "source": [
    "- What if we wanted to number of *reads* rather than the number of lines?\n",
    "- Recall the `.fastq` formatting, each new read begins with the @ symbol"
   ]
  },
  {
   "cell_type": "code",
   "execution_count": null,
   "metadata": {},
   "outputs": [],
   "source": [
    "fq = open(fq_path, \"r\")  # re-open the file\n",
    "i = 0\n",
    "for l in fq:\n",
    "    if l[0] == \"@\":\n",
    "        i += 1"
   ]
  },
  {
   "cell_type": "code",
   "execution_count": null,
   "metadata": {},
   "outputs": [],
   "source": [
    "print(\"Number of reads: %d\" % i)"
   ]
  },
  {
   "cell_type": "markdown",
   "metadata": {},
   "source": [
    "- There is one issue with the approach that we are taking\n",
    "- What happens if we have a bug while we are looping over the file?\n",
    "- The loop will stop, and `fq` will contain whatever lines are left (who knows what those are?)\n",
    "- We can have better control using the `with` statement"
   ]
  },
  {
   "cell_type": "code",
   "execution_count": null,
   "metadata": {},
   "outputs": [],
   "source": [
    "with open(fq_path, \"r\") as fq:  # this is the same as fq = open(fq_path, \"r\")\n",
    "    i = 0\n",
    "    for l in fq:\n",
    "        if l[0] == \"@\":\n",
    "            i += 1"
   ]
  },
  {
   "cell_type": "code",
   "execution_count": null,
   "metadata": {},
   "outputs": [],
   "source": [
    "print(\"Number of reads: %d\" % i)"
   ]
  },
  {
   "cell_type": "markdown",
   "metadata": {},
   "source": [
    "- Using with, if the code breaks, `fq` is annihilated (it only exists within the \"with\" statement)\n",
    "- Now we understand the basics of loading `.fastq` files and iterating over their lines in python"
   ]
  },
  {
   "cell_type": "markdown",
   "metadata": {},
   "source": [
    "## Extracting quality scores from `.fastq` files\n",
    "- We want to loop over the `.fastq` file as before, but this time we want to extract quality information\n",
    "- How?\n",
    "    - Recall the `.fastq` format:\n",
    "        - identifier, beginning with \"@\"\n",
    "        - nucleotide sequence\n",
    "        - '+\"\n",
    "        - quality scores\n",
    "    - So the quality score occurs three lines after the \"@\"\n",
    "- Let's make a small loop to get the idea"
   ]
  },
  {
   "cell_type": "code",
   "execution_count": null,
   "metadata": {},
   "outputs": [],
   "source": [
    "fastq = open(fq_path, \"r\")"
   ]
  },
  {
   "cell_type": "code",
   "execution_count": null,
   "metadata": {},
   "outputs": [],
   "source": [
    "i = 0\n",
    "for line in fastq:\n",
    "    \n",
    "    if line[0] == \"@\":  # if you encounter a line with `@`\n",
    "        j = 0  # reset the index to 0\n",
    "    if j == 3:  # if the index is 3...\n",
    "        print(line)  # print the line\n",
    "    j += 1  # add one to the index\n",
    "    \n",
    "    # Terminate loop after 16 lines\n",
    "    i += 1\n",
    "    if i > 16:\n",
    "        break"
   ]
  },
  {
   "cell_type": "markdown",
   "metadata": {},
   "source": [
    "- The quality scores!\n",
    "- Now, we want save the scores, not print them..."
   ]
  },
  {
   "cell_type": "code",
   "execution_count": null,
   "metadata": {},
   "outputs": [],
   "source": [
    "i = 0\n",
    "ascii_scores = []  # initiate an empty list where we will put the scores\n",
    "for line in fastq:\n",
    "    \n",
    "    if line[0] == \"@\":  # if you encounter a line with `@`\n",
    "        j = 0  # reset the index to 0\n",
    "    if j == 3:  # if the index is 3...\n",
    "        ascii_scores.append(line.rstrip())  # append to the list of scores\n",
    "    j += 1  # add one to the index\n",
    "    \n",
    "    # Terminate loop after 16 lines\n",
    "    i += 1\n",
    "    if i > 16:\n",
    "        break"
   ]
  },
  {
   "cell_type": "code",
   "execution_count": null,
   "metadata": {},
   "outputs": [],
   "source": [
    "ascii_scores"
   ]
  },
  {
   "cell_type": "markdown",
   "metadata": {},
   "source": [
    "- The scores are stored in the variable `q_scores`\n",
    "- But how would we these convert these to error probabilities?\n",
    "\n",
    "\n",
    "- We have to reverse the encoding...\n",
    "- Recall..\n",
    "    \n",
    "$$ Q = - 10 log(p) $$\n",
    "\n",
    "- Where $ Q $ is the quality score, and $ p $ is the probability of error.\n",
    "- The $ Q $ scores (represented as intergers) are then converted to ASCII\n",
    "\n",
    "\n",
    "$$ Q \\rightarrow A $$\n",
    "\n",
    "- We have to reverse this process\n",
    "- We can do this using the built-in `ord()` function in python"
   ]
  },
  {
   "cell_type": "code",
   "execution_count": null,
   "metadata": {},
   "outputs": [],
   "source": [
    "ord(\"!\")"
   ]
  },
  {
   "cell_type": "code",
   "execution_count": null,
   "metadata": {},
   "outputs": [],
   "source": [
    "ord(\"5\")"
   ]
  },
  {
   "cell_type": "code",
   "execution_count": null,
   "metadata": {},
   "outputs": [],
   "source": [
    "ord(\"5\") - 33"
   ]
  },
  {
   "cell_type": "code",
   "execution_count": null,
   "metadata": {},
   "outputs": [],
   "source": [
    "10**((ord(\"5\") - 33)/-10)  # inverse of function to get p-value"
   ]
  },
  {
   "cell_type": "code",
   "execution_count": null,
   "metadata": {},
   "outputs": [],
   "source": [
    "ascii_scores[0]  # here is the first read as ascii"
   ]
  },
  {
   "cell_type": "code",
   "execution_count": null,
   "metadata": {},
   "outputs": [],
   "source": [
    "q_scores = np.array([ord(c) - 33 for c in ascii_scores[0]])\n",
    "q_scores  # here it is as Q scores!"
   ]
  },
  {
   "cell_type": "markdown",
   "metadata": {},
   "source": [
    "- Finally, we can convert to probabilities..."
   ]
  },
  {
   "cell_type": "code",
   "execution_count": null,
   "metadata": {
    "scrolled": true
   },
   "outputs": [],
   "source": [
    "p_error = 10 ** (q_scores / -10)\n",
    "p_error # error probabilities!"
   ]
  },
  {
   "cell_type": "markdown",
   "metadata": {},
   "source": [
    "- Now we know everything we have to do\n",
    "- Let's fold it into a nice function"
   ]
  },
  {
   "cell_type": "markdown",
   "metadata": {},
   "source": [
    "## Writing a python function to extract q scores"
   ]
  },
  {
   "cell_type": "code",
   "execution_count": null,
   "metadata": {},
   "outputs": [],
   "source": [
    "def extract_error_probs(fq_path):\n",
    "    \"\"\"\n",
    "    Extract the error probabilities from\n",
    "    a .fastq file\n",
    "    \n",
    "    params\n",
    "        fq_path : str\n",
    "            Path to the fastq file.\n",
    "    \n",
    "    returns\n",
    "        ps : list of arrays\n",
    "            List of arrays containing error\n",
    "            probabilities for each read\n",
    "    \n",
    "    \"\"\"\n",
    "    \n",
    "    with open(fq_path, \"r\") as fastq:\n",
    "        ps = []\n",
    "        for line in fastq:\n",
    "            if line[0] == \"@\":\n",
    "                j = 0\n",
    "            if j == 3:\n",
    "                ascii_score = line.rstrip()\n",
    "                q_score = np.array([ord(c) for c in ascii_score]) - 33\n",
    "                p_error = 10 ** (q_score / -10)\n",
    "                ps.append(p_error)\n",
    "            j += 1\n",
    "    \n",
    "    return(ps)"
   ]
  },
  {
   "cell_type": "code",
   "execution_count": null,
   "metadata": {},
   "outputs": [],
   "source": [
    "ps = extract_error_probs(fq_path)"
   ]
  },
  {
   "cell_type": "code",
   "execution_count": null,
   "metadata": {},
   "outputs": [],
   "source": [
    "len(ps)"
   ]
  },
  {
   "cell_type": "markdown",
   "metadata": {},
   "source": [
    "## Plot the results"
   ]
  },
  {
   "cell_type": "markdown",
   "metadata": {},
   "source": [
    "### A single read"
   ]
  },
  {
   "cell_type": "code",
   "execution_count": null,
   "metadata": {},
   "outputs": [],
   "source": [
    "fig, ax = plt.subplots(1, 1)\n",
    "\n",
    "ax.plot(ps[0], color='darkgrey', alpha=1)\n",
    "ax.set_xlabel(\"Read Oosition (bp)\")\n",
    "ax.set_ylabel(\"Error Probability\")\n",
    "ax.set_title(\"First Read Only\", loc=\"left\")"
   ]
  },
  {
   "cell_type": "markdown",
   "metadata": {},
   "source": [
    "### 100 reads"
   ]
  },
  {
   "cell_type": "code",
   "execution_count": null,
   "metadata": {},
   "outputs": [],
   "source": [
    "fig, ax = plt.subplots(1, 1)\n",
    "\n",
    "n_view = 100\n",
    "for p in ps[:100]:\n",
    "    ax.plot(p, color='darkgrey', alpha=0.01)\n",
    "ax.set_xlabel(\"Read position (bp)\")\n",
    "ax.set_ylabel(\"Error Probability\")\n",
    "ax.set_title(\"First %d Reads\" % n_view, loc=\"left\")"
   ]
  },
  {
   "cell_type": "markdown",
   "metadata": {},
   "source": [
    "- We want a trend line through this mess\n",
    "- We don't want to make any assumptions\n",
    "    - Use a non-parameter smoothing method\n",
    "    - That's LOWESS\n",
    "- For LOWESS we need to give x-values to each read (position)"
   ]
  },
  {
   "cell_type": "markdown",
   "metadata": {},
   "source": [
    "### Smooth with LOWESS"
   ]
  },
  {
   "cell_type": "code",
   "execution_count": null,
   "metadata": {},
   "outputs": [],
   "source": [
    "from statsmodels.nonparametric.smoothers_lowess import lowess"
   ]
  },
  {
   "cell_type": "code",
   "execution_count": null,
   "metadata": {},
   "outputs": [],
   "source": [
    "positions = [np.arange(len(p)) for p in ps]"
   ]
  },
  {
   "cell_type": "code",
   "execution_count": null,
   "metadata": {},
   "outputs": [],
   "source": [
    "concat_ps = np.concatenate(ps)\n",
    "concat_positions = np.concatenate(positions)"
   ]
  },
  {
   "cell_type": "code",
   "execution_count": null,
   "metadata": {},
   "outputs": [],
   "source": [
    "len(concat_ps)  # 35 million letters of sequence"
   ]
  },
  {
   "cell_type": "code",
   "execution_count": null,
   "metadata": {
    "scrolled": true
   },
   "outputs": [],
   "source": [
    "n_smooth = 10**6\n",
    "ps_smooth = lowess(endog=concat_ps[:n_smooth], \n",
    "                   exog=concat_positions[:n_smooth],\n",
    "                   frac=0.1)"
   ]
  },
  {
   "cell_type": "code",
   "execution_count": null,
   "metadata": {},
   "outputs": [],
   "source": [
    "fig, ax = plt.subplots(1, 1)\n",
    "\n",
    "ax.plot(ps_smooth[:, 0], ps_smooth[:, 1], color='firebrick')"
   ]
  },
  {
   "cell_type": "markdown",
   "metadata": {},
   "source": [
    "- Let's look at the average error per read"
   ]
  },
  {
   "cell_type": "markdown",
   "metadata": {},
   "source": [
    "### Per-position mean"
   ]
  },
  {
   "cell_type": "code",
   "execution_count": null,
   "metadata": {},
   "outputs": [],
   "source": [
    "df = pd.DataFrame({\"error\": concat_ps, \"position\": concat_positions})"
   ]
  },
  {
   "cell_type": "code",
   "execution_count": null,
   "metadata": {},
   "outputs": [],
   "source": [
    "per_position_means = df.groupby(\"position\").mean()\n",
    "per_position_ns = np.array(df.groupby(\"position\").size())\n",
    "se = np.array(df.groupby(\"position\").std()) / np.sqrt(per_position_ns)"
   ]
  },
  {
   "cell_type": "code",
   "execution_count": null,
   "metadata": {},
   "outputs": [],
   "source": [
    "fig, ax = plt.subplots(1, 1)\n",
    "\n",
    "ax.plot(per_position_means, color='steelblue', alpha=1.0)\n",
    "ax.set_ylabel(\"Read position (bp)\")\n",
    "ax.set_xlabel(\"Error Probability\")"
   ]
  },
  {
   "cell_type": "markdown",
   "metadata": {},
   "source": [
    "## Questions:\n",
    "\n",
    "1. Compute the mean error probability per read. Plot a histogram of these values across all reads. Indicate the mean error probability across *all* reads with a vertical bar and in the title of the plot.\n",
    "2. Compute the length of every read. Plot the distribution of lengths as a histogram. Indicate the mean read length with a veritcal bar and in the title of the plot, as above.\n",
    "3. Is the mean error probability of a read a function of the read length? Produce at least one statistic and one visualisation to support your reasoning.\n",
    "4. **Bonus:** Compute the GC-content of each read and determine whether the error probability is a function of the GC content. Produce a visualisation and statistic to support your argument, as above."
   ]
  }
 ],
 "metadata": {
  "kernelspec": {
   "display_name": "Python 3 (ipykernel)",
   "language": "python",
   "name": "python3"
  },
  "language_info": {
   "codemirror_mode": {
    "name": "ipython",
    "version": 3
   },
   "file_extension": ".py",
   "mimetype": "text/x-python",
   "name": "python",
   "nbconvert_exporter": "python",
   "pygments_lexer": "ipython3",
   "version": "3.10.14"
  }
 },
 "nbformat": 4,
 "nbformat_minor": 4
}
