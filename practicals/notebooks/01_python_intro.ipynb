{
 "cells": [
  {
   "cell_type": "markdown",
   "metadata": {},
   "source": [
    "# Data types, lists and dictionaries in `python`\n",
    "Written by Jason A. Hendry"
   ]
  },
  {
   "cell_type": "markdown",
   "metadata": {},
   "source": [
    "---\n",
    "# I. Data Types\n",
    "\n",
    "- In order to understand data structures, it's helpful first to review data *types*\n",
    "- We can think of any data we have of being comprised of a collection of individual units or pieces\n",
    "- Each unit has a \"type\"\n",
    "\n",
    "The main types are the following:\n",
    "\n",
    "1. Booleans.\n",
    "    - Abbrv: `bool`\n",
    "    - What: True or False\n",
    "    - Examples: True, False\n",
    "    "
   ]
  },
  {
   "cell_type": "code",
   "execution_count": null,
   "metadata": {},
   "outputs": [],
   "source": [
    "interesting = True\n",
    "interesting"
   ]
  },
  {
   "cell_type": "code",
   "execution_count": null,
   "metadata": {},
   "outputs": [],
   "source": [
    "type(interesting)"
   ]
  },
  {
   "cell_type": "markdown",
   "metadata": {},
   "source": [
    "2. Integers.\n",
    "    - Abbrv: `int`\n",
    "    - What: the integers, typically positive and negative.\n",
    "    - Examples: 0, 1, -5, 123898248394923"
   ]
  },
  {
   "cell_type": "code",
   "execution_count": null,
   "metadata": {},
   "outputs": [],
   "source": [
    "genomes = 300\n",
    "genomes"
   ]
  },
  {
   "cell_type": "code",
   "execution_count": null,
   "metadata": {},
   "outputs": [],
   "source": [
    "genomes - 2"
   ]
  },
  {
   "cell_type": "code",
   "execution_count": null,
   "metadata": {},
   "outputs": [],
   "source": [
    "type(genomes)"
   ]
  },
  {
   "cell_type": "markdown",
   "metadata": {},
   "source": [
    "3. Characters.\n",
    "    - Abbrv: `char` or `str`\n",
    "    - What: The alphabet and other punctuation (formally, the ASCII table)\n",
    "    - Examples: \"A\", \"b\", \"?\""
   ]
  },
  {
   "cell_type": "code",
   "execution_count": null,
   "metadata": {},
   "outputs": [],
   "source": [
    "sample_one = \"sars-cov-2\"\n",
    "sample_one"
   ]
  },
  {
   "cell_type": "code",
   "execution_count": null,
   "metadata": {},
   "outputs": [],
   "source": [
    "type(sample_one)"
   ]
  },
  {
   "cell_type": "code",
   "execution_count": null,
   "metadata": {},
   "outputs": [],
   "source": [
    "sample_two = \"67\"\n",
    "sample_two"
   ]
  },
  {
   "cell_type": "code",
   "execution_count": null,
   "metadata": {},
   "outputs": [],
   "source": [
    "sample_three = 68"
   ]
  },
  {
   "cell_type": "code",
   "execution_count": null,
   "metadata": {},
   "outputs": [],
   "source": [
    "type(sample_two)"
   ]
  },
  {
   "cell_type": "markdown",
   "metadata": {},
   "source": [
    "4. Floating point numbers.\n",
    "    - Abbrv: `float`\n",
    "    - What: All real numbers, i.e. all numbers on the continuous number line\n",
    "    - Examples: 5.5, 1.23402349, -2.829\n",
    "    - NB: In reality, these are encoded only approximately."
   ]
  },
  {
   "cell_type": "code",
   "execution_count": null,
   "metadata": {},
   "outputs": [],
   "source": [
    "mean_coverage = 87.52\n",
    "mean_coverage"
   ]
  },
  {
   "cell_type": "code",
   "execution_count": null,
   "metadata": {},
   "outputs": [],
   "source": [
    "type(mean_coverage)"
   ]
  },
  {
   "cell_type": "markdown",
   "metadata": {},
   "source": [
    "---\n",
    "# II. Data structures\n",
    "\n",
    "- When we combine many units of data together, we are creating data structures. \n",
    "- In `python`, there are a few 'native' data structures\n",
    "- The most commonly used are **lists** and **dictionaries**"
   ]
  },
  {
   "cell_type": "markdown",
   "metadata": {},
   "source": [
    "## II.a. Lists\n",
    "\n",
    "- A list is just an ordered set of items\n",
    "- Items are separated by commas: `\"a\", \"b\", \"c\"`\n",
    "- The whole thing is enclosed in square brakets: `[\"a\", \"b\", \"c\"]`"
   ]
  },
  {
   "cell_type": "markdown",
   "metadata": {},
   "source": [
    "### Creation"
   ]
  },
  {
   "cell_type": "code",
   "execution_count": null,
   "metadata": {},
   "outputs": [],
   "source": [
    "empty_list = []\n",
    "empty_list"
   ]
  },
  {
   "cell_type": "code",
   "execution_count": null,
   "metadata": {},
   "outputs": [],
   "source": [
    "type(empty_list)"
   ]
  },
  {
   "cell_type": "code",
   "execution_count": null,
   "metadata": {},
   "outputs": [],
   "source": [
    "another_empty_list = list()\n",
    "another_empty_list"
   ]
  },
  {
   "cell_type": "code",
   "execution_count": null,
   "metadata": {},
   "outputs": [],
   "source": [
    "list_with_stuff = [0, 1, \"hello\", \"car\", 23.42, True]\n",
    "list_with_stuff"
   ]
  },
  {
   "cell_type": "markdown",
   "metadata": {},
   "source": [
    "An important feature of lists is that they can hold *a mix of data types*."
   ]
  },
  {
   "cell_type": "code",
   "execution_count": null,
   "metadata": {},
   "outputs": [],
   "source": [
    "list_with_a_list = [\"frog\", list_with_stuff]\n",
    "list_with_a_list"
   ]
  },
  {
   "cell_type": "markdown",
   "metadata": {},
   "source": [
    "They can also contain *other lists*."
   ]
  },
  {
   "cell_type": "code",
   "execution_count": null,
   "metadata": {},
   "outputs": [],
   "source": [
    "len(empty_list)"
   ]
  },
  {
   "cell_type": "markdown",
   "metadata": {},
   "source": [
    "`len()` is a very important function in python. It tells you the length of objects."
   ]
  },
  {
   "cell_type": "markdown",
   "metadata": {},
   "source": [
    "### Addition"
   ]
  },
  {
   "cell_type": "code",
   "execution_count": null,
   "metadata": {},
   "outputs": [],
   "source": [
    "list_with_stuff.append([3, 4, 5])"
   ]
  },
  {
   "cell_type": "code",
   "execution_count": null,
   "metadata": {},
   "outputs": [],
   "source": [
    "list_with_stuff"
   ]
  },
  {
   "cell_type": "code",
   "execution_count": null,
   "metadata": {},
   "outputs": [],
   "source": [
    "len(list_with_stuff)"
   ]
  },
  {
   "cell_type": "code",
   "execution_count": null,
   "metadata": {},
   "outputs": [],
   "source": [
    "list_with_stuff"
   ]
  },
  {
   "cell_type": "code",
   "execution_count": null,
   "metadata": {},
   "outputs": [],
   "source": [
    "list_with_stuff + 3000"
   ]
  },
  {
   "cell_type": "code",
   "execution_count": null,
   "metadata": {},
   "outputs": [],
   "source": [
    "list4 = list_with_stuff + [3000, 4000, 5000]  # now we are adding two lists"
   ]
  },
  {
   "cell_type": "code",
   "execution_count": null,
   "metadata": {},
   "outputs": [],
   "source": [
    "list4"
   ]
  },
  {
   "cell_type": "code",
   "execution_count": null,
   "metadata": {},
   "outputs": [],
   "source": [
    "len(list_with_stuff)"
   ]
  },
  {
   "cell_type": "markdown",
   "metadata": {},
   "source": [
    "We are creating a new, combined list, but we need to assign it to another variable name to save it."
   ]
  },
  {
   "cell_type": "markdown",
   "metadata": {},
   "source": [
    "### Subtraction"
   ]
  },
  {
   "cell_type": "code",
   "execution_count": null,
   "metadata": {},
   "outputs": [],
   "source": [
    "list_with_stuff"
   ]
  },
  {
   "cell_type": "code",
   "execution_count": null,
   "metadata": {},
   "outputs": [],
   "source": [
    "list_with_stuff.pop(1)"
   ]
  },
  {
   "cell_type": "code",
   "execution_count": null,
   "metadata": {},
   "outputs": [],
   "source": [
    "list_with_stuff"
   ]
  },
  {
   "cell_type": "code",
   "execution_count": null,
   "metadata": {},
   "outputs": [],
   "source": [
    "list_with_stuff.remove(2000)"
   ]
  },
  {
   "cell_type": "code",
   "execution_count": null,
   "metadata": {},
   "outputs": [],
   "source": [
    "list_with_stuff"
   ]
  },
  {
   "cell_type": "code",
   "execution_count": null,
   "metadata": {},
   "outputs": [],
   "source": [
    "list_with_stuff - [2000]  # nope"
   ]
  },
  {
   "cell_type": "markdown",
   "metadata": {},
   "source": [
    "### Using `range()`"
   ]
  },
  {
   "cell_type": "markdown",
   "metadata": {},
   "source": [
    "There is a trick to building lists of integers"
   ]
  },
  {
   "cell_type": "code",
   "execution_count": null,
   "metadata": {},
   "outputs": [],
   "source": [
    "list(range(10))"
   ]
  },
  {
   "cell_type": "markdown",
   "metadata": {},
   "source": [
    "Important point(s):\n",
    "- The number in range gives the `index` of the last item\n",
    "- We start counting at zero\n",
    "- If nothing else is given, that is also the length of the list\n"
   ]
  },
  {
   "cell_type": "code",
   "execution_count": null,
   "metadata": {},
   "outputs": [],
   "source": [
    "len(list(range(10)))"
   ]
  },
  {
   "cell_type": "code",
   "execution_count": null,
   "metadata": {},
   "outputs": [],
   "source": [
    "list(range(20))"
   ]
  },
  {
   "cell_type": "code",
   "execution_count": null,
   "metadata": {},
   "outputs": [],
   "source": [
    "list(range(5, 10))"
   ]
  },
  {
   "cell_type": "code",
   "execution_count": null,
   "metadata": {},
   "outputs": [],
   "source": [
    "list(range(1, 20, 4))"
   ]
  },
  {
   "cell_type": "markdown",
   "metadata": {},
   "source": [
    "### Indexes and slicing\n",
    "\n",
    "- Items in a list are 'indexed'\n",
    "- This means they have an *order*\n",
    "- And it means you can access them by refering to their position\n",
    "- NB: we start counting at zero"
   ]
  },
  {
   "cell_type": "code",
   "execution_count": null,
   "metadata": {},
   "outputs": [],
   "source": [
    "nts = [\"A\", \"T\", \"C\", \"G\"]"
   ]
  },
  {
   "cell_type": "code",
   "execution_count": null,
   "metadata": {},
   "outputs": [],
   "source": [
    "nts[0]"
   ]
  },
  {
   "cell_type": "code",
   "execution_count": null,
   "metadata": {},
   "outputs": [],
   "source": [
    "nts[1]"
   ]
  },
  {
   "cell_type": "markdown",
   "metadata": {},
   "source": [
    "We can access more than one item, and this is called *slicing*."
   ]
  },
  {
   "cell_type": "code",
   "execution_count": null,
   "metadata": {},
   "outputs": [],
   "source": [
    "numbers = list(range(20))\n",
    "numbers"
   ]
  },
  {
   "cell_type": "code",
   "execution_count": null,
   "metadata": {},
   "outputs": [],
   "source": [
    "numbers[3:8]"
   ]
  },
  {
   "cell_type": "markdown",
   "metadata": {},
   "source": [
    "ADDITIONAL EXAMPLES"
   ]
  },
  {
   "cell_type": "markdown",
   "metadata": {},
   "source": [
    "An important advantage of `python`: strings are **also indexed**!"
   ]
  },
  {
   "cell_type": "code",
   "execution_count": null,
   "metadata": {},
   "outputs": [],
   "source": [
    "import string as st"
   ]
  },
  {
   "cell_type": "code",
   "execution_count": null,
   "metadata": {},
   "outputs": [],
   "source": [
    "letters = st.ascii_lowercase\n",
    "letters"
   ]
  },
  {
   "cell_type": "code",
   "execution_count": null,
   "metadata": {},
   "outputs": [],
   "source": [
    "letters[0]"
   ]
  },
  {
   "cell_type": "code",
   "execution_count": null,
   "metadata": {},
   "outputs": [],
   "source": [
    "letters[10:16]"
   ]
  },
  {
   "cell_type": "markdown",
   "metadata": {},
   "source": [
    "### Cool tricks: list *comprehensions*"
   ]
  },
  {
   "cell_type": "code",
   "execution_count": null,
   "metadata": {},
   "outputs": [],
   "source": [
    "for value in [1, \"dan\", 2, 3, 5, [1, 2, 3]]:\n",
    "    if isinstance(value, str):\n",
    "        print(value + \"dan\")\n",
    "    elif isinstance(value, int):\n",
    "        print(value + 200)\n",
    "    elif isinstance(value, list):\n",
    "        print(value[0])\n",
    "    else:\n",
    "        print(value)"
   ]
  },
  {
   "cell_type": "code",
   "execution_count": null,
   "metadata": {},
   "outputs": [],
   "source": [
    "l = []\n",
    "for i in range(10):\n",
    "    l.append(i * 3)\n",
    "l"
   ]
  },
  {
   "cell_type": "code",
   "execution_count": null,
   "metadata": {},
   "outputs": [],
   "source": [
    "l_comprehension = [i * 3 for i in range(10)]\n",
    "l_comprehension"
   ]
  },
  {
   "cell_type": "code",
   "execution_count": null,
   "metadata": {},
   "outputs": [],
   "source": [
    "for i in list(range(10)):\n",
    "    if i * 3 % 2 == 0:\n",
    "        print(i * 3 )"
   ]
  },
  {
   "cell_type": "code",
   "execution_count": null,
   "metadata": {},
   "outputs": [],
   "source": [
    "l_comprehension = [i * 3 for i in range(10) if i * 3 % 2 == 0]\n",
    "l_comprehension"
   ]
  },
  {
   "cell_type": "markdown",
   "metadata": {},
   "source": [
    "Let's build codons"
   ]
  },
  {
   "cell_type": "code",
   "execution_count": null,
   "metadata": {},
   "outputs": [],
   "source": [
    "nts = \"ATCG\"\n",
    "codons = [nts[i] + nts[j] + nts[k] \n",
    "          for i in range(3)\n",
    "          for j in range(3)\n",
    "          for k in range(3)]\n",
    "codons"
   ]
  },
  {
   "cell_type": "markdown",
   "metadata": {},
   "source": [
    "## Review:\n",
    "\n",
    "- A list is an ordered (and indexed) set of items\n",
    "- Holds:\n",
    "    - Items of any data type, other lists\n",
    "- Creation:\n",
    "    - `[]` or `list()`\n",
    "- Addition:\n",
    "    - `.append()` or `+ []`\n",
    "- Removal:\n",
    "    - `.pop()` or `.remove()`\n",
    "- You can slice a list\n",
    "- Advantages:\n",
    "    - Grow and shrink easily\n",
    "- Disadvantages:\n",
    "    - Use a lot of memory"
   ]
  },
  {
   "cell_type": "markdown",
   "metadata": {},
   "source": [
    "## Example 1: the Moran model\n",
    "\n",
    "The Moran model is one of the classical models of genetic drift. It is relatively easy to implement in python using lists."
   ]
  },
  {
   "cell_type": "code",
   "execution_count": null,
   "metadata": {},
   "outputs": [],
   "source": [
    "import random"
   ]
  },
  {
   "cell_type": "code",
   "execution_count": null,
   "metadata": {},
   "outputs": [],
   "source": [
    "# Initialise\n",
    "N = 10**2\n",
    "init_freqA = 0.3\n",
    "\n",
    "population = [\"A\"] * int(N * init_freqA)\n",
    "population += [\"B\"] * int(N - len(population))\n",
    "\n",
    "nsteps = 10**3\n",
    "\n",
    "# Storage\n",
    "freqA = []"
   ]
  },
  {
   "cell_type": "code",
   "execution_count": null,
   "metadata": {},
   "outputs": [],
   "source": [
    "for _ in range(nsteps):\n",
    "    i = int(random.random() * N)\n",
    "    j = int(random.random() * N)\n",
    "    \n",
    "    population.append(population[j])  # reproduce\n",
    "    population.pop(i)  # die\n",
    "    \n",
    "    f = sum([1 for p in population if p == 'A'])/N\n",
    "    freqA.append(f)"
   ]
  },
  {
   "cell_type": "code",
   "execution_count": null,
   "metadata": {},
   "outputs": [],
   "source": [
    "import matplotlib.pyplot as plt\n",
    "%matplotlib inline"
   ]
  },
  {
   "cell_type": "code",
   "execution_count": null,
   "metadata": {
    "scrolled": true
   },
   "outputs": [],
   "source": [
    "fig, ax = plt.subplots(1, 1)\n",
    "\n",
    "ax.plot(freqA)\n",
    "ax.set_ylim((0, 1))"
   ]
  },
  {
   "cell_type": "markdown",
   "metadata": {},
   "source": [
    "## Example 2: SIR model"
   ]
  },
  {
   "cell_type": "code",
   "execution_count": null,
   "metadata": {},
   "outputs": [],
   "source": [
    "# Initialisation\n",
    "N = 10**3\n",
    "init_I = 10\n",
    "init_S = N - init_I\n",
    "S = [1] * init_S\n",
    "I = [1] * init_I\n",
    "R = []\n",
    "\n",
    "beta = 0.15\n",
    "gamma = 0.05\n",
    "\n",
    "# Storage\n",
    "t = [0]\n",
    "tS = [len(S)]\n",
    "tI = [len(I)]\n",
    "tR = [len(R)]"
   ]
  },
  {
   "cell_type": "code",
   "execution_count": null,
   "metadata": {},
   "outputs": [],
   "source": [
    "while len(I) > 0:\n",
    "    \n",
    "    # Calculate transition rates\n",
    "    rate_infect = len(I) * beta * (len(S) / N)\n",
    "    rate_clear = len(I) * gamma\n",
    "    rate_total = rate_infect + rate_clear\n",
    "    \n",
    "    # Move forward in time\n",
    "    t_delta = random.expovariate(rate_total)\n",
    "    t.append(t[-1] + t_delta)\n",
    "    \n",
    "    # Simulate an event\n",
    "    u = random.random()\n",
    "    if u <= (rate_infect / rate_total):\n",
    "        I.append(S.pop())\n",
    "    else:\n",
    "        R.append(I.pop())\n",
    "        \n",
    "    # Calculate population state\n",
    "    tS.append(len(S))\n",
    "    tI.append(len(I))\n",
    "    tR.append(len(R))"
   ]
  },
  {
   "cell_type": "code",
   "execution_count": null,
   "metadata": {},
   "outputs": [],
   "source": [
    "fig, ax = plt.subplots(1, 1, figsize=(8, 5))\n",
    "\n",
    "# Plot\n",
    "ax.fill_between(x=t, y1=[0]*len(t), y2=tI, label=\"Infected\", zorder=3, alpha=1.0)\n",
    "ax.fill_between(x=t, y1=[0]*len(t), y2=tS, label=\"Susceptible\", zorder=2, alpha=0.5)\n",
    "ax.fill_between(x=t, y1=[0]*len(t), y2=tR, label=\"Recovered\", zorder=1, alpha=0.5)\n",
    "\n",
    "# Labels\n",
    "ax.set_xlabel(\"Days\")\n",
    "\n",
    "# Limits\n",
    "ax.set_ylim((0, N))\n",
    "ax.set_xlim((0, t[-1]))\n",
    "\n",
    "# Legend\n",
    "ax.legend()"
   ]
  },
  {
   "cell_type": "markdown",
   "metadata": {},
   "source": [
    "---"
   ]
  },
  {
   "cell_type": "markdown",
   "metadata": {},
   "source": [
    "## II.b. Dictionaries\n",
    "\n",
    "Another very common data structure in python is a dictionary. You can think of it analogously to an actual physical dictionary: there are words (called key's in python) and definitions (called values).\n",
    "\n",
    "- A dictionary is a collect of 'key-value' pairs\n",
    "- The keys and values are separated by colons `\"name\": \"Jason\"`\n",
    "- The different entries are separated by commas `\"name\": \"Jason\", \"age\": 30`\n",
    "- The entire thing is enclosed in curly braces `{\"name\": \"Jason\", \"age\": 30}`"
   ]
  },
  {
   "cell_type": "markdown",
   "metadata": {},
   "source": [
    "### Creation"
   ]
  },
  {
   "cell_type": "code",
   "execution_count": null,
   "metadata": {},
   "outputs": [],
   "source": [
    "empty_dictionary = {}\n",
    "empty_dictionary"
   ]
  },
  {
   "cell_type": "code",
   "execution_count": null,
   "metadata": {},
   "outputs": [],
   "source": [
    "type(empty_dictionary)"
   ]
  },
  {
   "cell_type": "code",
   "execution_count": null,
   "metadata": {},
   "outputs": [],
   "source": [
    "another_empty_dictionary = dict()\n",
    "another_empty_dictionary"
   ]
  },
  {
   "cell_type": "code",
   "execution_count": null,
   "metadata": {},
   "outputs": [],
   "source": [
    "dt_with_stuff = {\"genus\": \"Plasmodium\", \n",
    "                 \"species\": \"falciparum\", \n",
    "                 \"chromosomes\": 14}\n",
    "dt_with_stuff"
   ]
  },
  {
   "cell_type": "markdown",
   "metadata": {},
   "source": [
    "Both *keys* and *values* can be of any type"
   ]
  },
  {
   "cell_type": "code",
   "execution_count": null,
   "metadata": {},
   "outputs": [],
   "source": [
    "dt_with_more_stuff = {\"genus\": [\"Plasmodium\", \"Plasmodium\"],\n",
    "                      \"species\": [\"falciparum\", \"vivax\"],\n",
    "                      \"chromosomes\": [14, 14]}\n",
    "dt_with_more_stuff"
   ]
  },
  {
   "cell_type": "markdown",
   "metadata": {},
   "source": [
    "### Addition\n",
    "Items are added by assigning values to a dictionary key"
   ]
  },
  {
   "cell_type": "code",
   "execution_count": null,
   "metadata": {},
   "outputs": [],
   "source": [
    "dt = {}\n",
    "dt[\"name\"] = \"Jason\"\n",
    "dt"
   ]
  },
  {
   "cell_type": "code",
   "execution_count": null,
   "metadata": {},
   "outputs": [],
   "source": [
    "dt[\"age\"] = 30\n",
    "dt"
   ]
  },
  {
   "cell_type": "markdown",
   "metadata": {},
   "source": [
    "We can also \"update\" dictionaries with other dictionaries"
   ]
  },
  {
   "cell_type": "code",
   "execution_count": null,
   "metadata": {},
   "outputs": [],
   "source": [
    "old_dt = {\"name\": \"Jason\", \"age\": 23, \"location\": \"Toronto\"}\n",
    "old_dt"
   ]
  },
  {
   "cell_type": "code",
   "execution_count": null,
   "metadata": {},
   "outputs": [],
   "source": [
    "new_dt = {\"name\": \"Jason\", \"age\": 30, \"location\": \"Oxford\", \"code_in_python\": True}"
   ]
  },
  {
   "cell_type": "code",
   "execution_count": null,
   "metadata": {},
   "outputs": [],
   "source": [
    "old_dt.update(new_dt)"
   ]
  },
  {
   "cell_type": "code",
   "execution_count": null,
   "metadata": {},
   "outputs": [],
   "source": [
    "old_dt"
   ]
  },
  {
   "cell_type": "markdown",
   "metadata": {},
   "source": [
    "### Deletion"
   ]
  },
  {
   "cell_type": "code",
   "execution_count": null,
   "metadata": {},
   "outputs": [],
   "source": [
    "old_dt"
   ]
  },
  {
   "cell_type": "code",
   "execution_count": null,
   "metadata": {},
   "outputs": [],
   "source": [
    "old_dt.pop(\"age\")  # NB: this is key, not indexed"
   ]
  },
  {
   "cell_type": "code",
   "execution_count": null,
   "metadata": {},
   "outputs": [],
   "source": [
    "old_dt"
   ]
  },
  {
   "cell_type": "code",
   "execution_count": null,
   "metadata": {},
   "outputs": [],
   "source": [
    "del old_dt['code_in_python']"
   ]
  },
  {
   "cell_type": "code",
   "execution_count": null,
   "metadata": {},
   "outputs": [],
   "source": [
    "old_dt"
   ]
  },
  {
   "cell_type": "markdown",
   "metadata": {},
   "source": [
    "### Getting items from a dictionary\n",
    "\n",
    "- Dictionaries *do not have an inherent order*.\n",
    "- They are *not* indexed, and so slicing is *not* possible"
   ]
  },
  {
   "cell_type": "code",
   "execution_count": null,
   "metadata": {},
   "outputs": [],
   "source": [
    "dt = {'samples' : 10, 'run' : 3, 'mean_coverage' : 74.9}  "
   ]
  },
  {
   "cell_type": "code",
   "execution_count": null,
   "metadata": {},
   "outputs": [],
   "source": [
    "dt[0]"
   ]
  },
  {
   "cell_type": "code",
   "execution_count": null,
   "metadata": {},
   "outputs": [],
   "source": [
    "dt['samples']"
   ]
  },
  {
   "cell_type": "code",
   "execution_count": null,
   "metadata": {},
   "outputs": [],
   "source": [
    "dt.keys()"
   ]
  },
  {
   "cell_type": "code",
   "execution_count": null,
   "metadata": {},
   "outputs": [],
   "source": [
    "dt.values()"
   ]
  },
  {
   "cell_type": "markdown",
   "metadata": {},
   "source": [
    "## Example 1: Reverse complementing in `python`"
   ]
  },
  {
   "cell_type": "code",
   "execution_count": null,
   "metadata": {},
   "outputs": [],
   "source": [
    "seq = \"TTTCTGTTGGTGCTGATATTGCGGAAAACTAACAATAAAGGA\""
   ]
  },
  {
   "cell_type": "code",
   "execution_count": null,
   "metadata": {},
   "outputs": [],
   "source": [
    "aa_map = {\n",
    "    \"A\": \"T\",\n",
    "    \"T\": \"A\",\n",
    "    \"C\": \"G\",\n",
    "    \"G\": \"C\"\n",
    "}"
   ]
  },
  {
   "cell_type": "code",
   "execution_count": null,
   "metadata": {},
   "outputs": [],
   "source": [
    "rc_seq = []\n",
    "for s in seq:\n",
    "    rc_seq.append(aa_map[s])"
   ]
  },
  {
   "cell_type": "code",
   "execution_count": null,
   "metadata": {},
   "outputs": [],
   "source": [
    "\"\".join(rc_seq)[::-1]"
   ]
  },
  {
   "cell_type": "code",
   "execution_count": null,
   "metadata": {},
   "outputs": [],
   "source": [
    "rc_seq = \"\"\n",
    "for s in seq:\n",
    "    rc_seq = aa_map[s] + rc_seq"
   ]
  },
  {
   "cell_type": "code",
   "execution_count": null,
   "metadata": {},
   "outputs": [],
   "source": [
    "rc_seq"
   ]
  },
  {
   "cell_type": "markdown",
   "metadata": {},
   "source": [
    "## Example 2: Loading a `.fastq` file"
   ]
  },
  {
   "cell_type": "code",
   "execution_count": null,
   "metadata": {},
   "outputs": [],
   "source": [
    "fastq_fn = \"data/example.fastq\""
   ]
  },
  {
   "cell_type": "code",
   "execution_count": null,
   "metadata": {},
   "outputs": [],
   "source": [
    "dt = {}\n",
    "with open(fastq_fn, \"r\") as fastq:\n",
    "    for line in fastq:\n",
    "        # Extract read identifier\n",
    "        name = line.rstrip()\n",
    "        \n",
    "        # Extract sequence\n",
    "        seq = fastq.readline().rstrip()\n",
    "        \n",
    "        # Skip \"+\" and quality scores\n",
    "        fastq.readline()\n",
    "        fastq.readline()\n",
    "        \n",
    "        # Store in dictionary\n",
    "        dt[name] = seq"
   ]
  },
  {
   "cell_type": "code",
   "execution_count": null,
   "metadata": {},
   "outputs": [],
   "source": [
    "list(dt.keys())[:5]"
   ]
  },
  {
   "cell_type": "code",
   "execution_count": null,
   "metadata": {},
   "outputs": [],
   "source": [
    "list(dt.values())[:5]"
   ]
  },
  {
   "cell_type": "code",
   "execution_count": null,
   "metadata": {},
   "outputs": [],
   "source": []
  }
 ],
 "metadata": {
  "kernelspec": {
   "display_name": "Python 3 (ipykernel)",
   "language": "python",
   "name": "python3"
  },
  "language_info": {
   "codemirror_mode": {
    "name": "ipython",
    "version": 3
   },
   "file_extension": ".py",
   "mimetype": "text/x-python",
   "name": "python",
   "nbconvert_exporter": "python",
   "pygments_lexer": "ipython3",
   "version": "3.10.14"
  }
 },
 "nbformat": 4,
 "nbformat_minor": 4
}
