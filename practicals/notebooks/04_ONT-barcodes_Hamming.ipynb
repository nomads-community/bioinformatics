{
 "cells": [
  {
   "cell_type": "markdown",
   "id": "e5f78bd3-1593-4c2f-b1c9-ea22632fada7",
   "metadata": {},
   "source": [
    "# Analysing the Hamming distance between the ONT barcodes\n",
    "Written by Jason A. Hendry"
   ]
  },
  {
   "cell_type": "code",
   "execution_count": null,
   "id": "02421ead",
   "metadata": {},
   "outputs": [],
   "source": [
    "import os\n",
    "import sys\n",
    "import datetime\n",
    "import pandas as pd\n",
    "import numpy as np\n",
    "import seaborn as sns\n",
    "import re\n",
    "from Bio import SeqIO\n",
    "from scipy.spatial.distance import hamming\n",
    "import matplotlib.pyplot as plt"
   ]
  },
  {
   "cell_type": "code",
   "execution_count": null,
   "id": "0ccdd92e",
   "metadata": {},
   "outputs": [],
   "source": [
    "#Define paths and filenames\n",
    "bc_dir = \"data\"\n",
    "bc_file = \"barcodes_masked.fasta\""
   ]
  },
  {
   "cell_type": "markdown",
   "id": "b795dc18",
   "metadata": {},
   "source": [
    "# Identify relevent barcodes"
   ]
  },
  {
   "cell_type": "code",
   "execution_count": null,
   "id": "8633622d",
   "metadata": {},
   "outputs": [],
   "source": [
    "#Set-up lists\n",
    "bc_seq = []\n",
    "bc_id = []\n",
    "\n",
    "#Open fasta file\n",
    "for record in SeqIO.parse(os.path.join(bc_dir, bc_file), \"fasta\"):\n",
    "    #Identify correct entries \n",
    "    if re.match(r\"BC\\d{2}$\",record.name):\n",
    "        #Append to lists\n",
    "        bc_seq.append(record.seq)\n",
    "        bc_id.append(record.id)"
   ]
  },
  {
   "cell_type": "code",
   "execution_count": null,
   "id": "8c00a46c",
   "metadata": {},
   "outputs": [],
   "source": [
    "#Calculate barcode lengths\n",
    "lengths = []\n",
    "for seq in bc_seq:\n",
    "    l = len(bc_seq[0])\n",
    "    lengths.append(l)\n",
    "\n",
    "#Check lengths are the same otherwise unable to calculate hamming distance\n",
    "if max(lengths) == min(lengths):\n",
    "    print(\"All barcodes have the same length (%d bp)\" % lengths[0])\n",
    "else:\n",
    "    print(\"Mixed length barcodes\")"
   ]
  },
  {
   "cell_type": "markdown",
   "id": "d069d958",
   "metadata": {},
   "source": [
    "# Create pairwise distance matrix\n",
    "Want to identify the hamming distance between each barcode and every other one"
   ]
  },
  {
   "cell_type": "code",
   "execution_count": null,
   "id": "827ba001",
   "metadata": {},
   "outputs": [],
   "source": [
    "#Number of barcodes\n",
    "n_bc = len(bc_seq)\n",
    "#n dimensional array for pairwise comparisons filled with np.nan\n",
    "bc_hamm = np.full((n_bc, n_bc), np.nan)\n",
    "\n",
    "#Cycle through each of the barcodes\n",
    "for count in range(0,n_bc,1):\n",
    "    #Cycle through each of the remaining barcodes for each barcode\n",
    "    for comp in range(count, n_bc,1):\n",
    "        #Calculate hamming distance\n",
    "        h = hamming(bc_seq[count], bc_seq[comp]) * len(bc_seq[count])\n",
    "        #Insert result directly into array\n",
    "        bc_hamm[count,comp] = h"
   ]
  },
  {
   "cell_type": "markdown",
   "id": "323923c1",
   "metadata": {},
   "source": [
    "# Visual matrix"
   ]
  },
  {
   "cell_type": "code",
   "execution_count": null,
   "id": "2b8c3d1a",
   "metadata": {},
   "outputs": [],
   "source": [
    "plt.figure(figsize=(10,10))\n",
    "plt.imshow(bc_hamm)\n",
    "plt.colorbar()\n",
    "plt.title('Pairwise matrix of Hamming distance between all ONT native barcodes')"
   ]
  },
  {
   "cell_type": "markdown",
   "id": "dfbe51b8",
   "metadata": {},
   "source": [
    "# Summary Stats"
   ]
  },
  {
   "cell_type": "code",
   "execution_count": null,
   "id": "d8eda2fd",
   "metadata": {},
   "outputs": [],
   "source": [
    "#Replace all zeroes (self-comparisons) with nan to allow summary stats to be calculated\n",
    "bc_hamm_na = np.where(bc_hamm == 0, np.nan, bc_hamm)\n",
    "\n",
    "print(\"Summary stats:\")\n",
    "print(\"   Min: %d\" % np.nanmin(bc_hamm_na))\n",
    "print(\"   Max: %d\" % np.nanmax(bc_hamm_na))\n",
    "print(\"   Median: %d\" % np.nanmedian(bc_hamm_na))"
   ]
  },
  {
   "cell_type": "code",
   "execution_count": null,
   "id": "15e294f7-d083-4959-adf0-2b4e04dc4f0f",
   "metadata": {},
   "outputs": [],
   "source": [
    "data_flat = bc_hamm_na.flatten()  # Flatten the array to combine all data points\n",
    "ax = sns.displot(data_flat, kde=True, stat=\"density\")\n",
    "# Access the main axis using plt.gca() (get current axis)\n",
    "main_axis = plt.gca()\n",
    "main_axis.set_title(\"Normal distribution of hamming distances between all ONT native barcodes\")\n",
    "main_axis.set_xlabel(\"Hamming distance\")"
   ]
  },
  {
   "cell_type": "markdown",
   "id": "d071198a",
   "metadata": {},
   "source": [
    "# Identify closest barcodes"
   ]
  },
  {
   "cell_type": "code",
   "execution_count": null,
   "id": "14403f8c",
   "metadata": {},
   "outputs": [],
   "source": [
    "#Identify all locations with the min Hamming distance\n",
    "ham_min = np.where(bc_hamm_na==np.nanmin(bc_hamm_na))\n",
    "\n",
    "x=ham_min[0]\n",
    "y=ham_min[1]"
   ]
  },
  {
   "cell_type": "code",
   "execution_count": null,
   "id": "71b81f23",
   "metadata": {},
   "outputs": [],
   "source": [
    "print(\"Minimum Hamming Distances identified between:\")\n",
    "#Create list for each min value\n",
    "for v in range(0,len(x),1):\n",
    "    print(\"   BC%d and BC%d\" % (x[v]+1, y[v]+1))"
   ]
  },
  {
   "cell_type": "markdown",
   "id": "f37295ff",
   "metadata": {},
   "source": [
    "# Conclusions\n",
    "The above barcode pairs are most likely to be mistakenly read as the other, however with a minimum hamming distance of 12 for 24 bp barcodes i.e. 50% difference this seems unlikely.\n",
    "\n",
    "Could explore whether there are amplicons that have 3' barcode like seq and whether it is likely that the 5' of the barcode could be missed. For example, if:\n",
    "\n",
    "BC01: <font color='green'>ACGTAC</font><br>\n",
    "Amp1: CGTAGG<br>\n",
    "\n",
    "Would expect to create a sequence <font color='green'>ACGTAC</font>CGTAGG<br>\n",
    "\n",
    "However if sequence from \n",
    "BC02:<font color='red'>TACCGT</font><br>\n",
    "\n",
    "Is it possible that we would lose the first few base pairs, i.e. <font color='green'>ACG</font>, it would be assigned to BC02 i.e:<br>\n",
    "<font color='red'>TACCGT</font>AGG<br>\n"
   ]
  }
 ],
 "metadata": {
  "kernelspec": {
   "display_name": "Python 3 (ipykernel)",
   "language": "python",
   "name": "python3"
  },
  "language_info": {
   "codemirror_mode": {
    "name": "ipython",
    "version": 3
   },
   "file_extension": ".py",
   "mimetype": "text/x-python",
   "name": "python",
   "nbconvert_exporter": "python",
   "pygments_lexer": "ipython3",
   "version": "3.10.14"
  }
 },
 "nbformat": 4,
 "nbformat_minor": 5
}
